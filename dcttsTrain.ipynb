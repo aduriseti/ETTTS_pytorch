{
 "cells": [
  {
   "cell_type": "code",
   "execution_count": 2,
   "metadata": {},
   "outputs": [
    {
     "data": {
      "text/plain": [
       "<module 'dcttsModel' from '/home/aduriseti/tts/ettts_master/dcttsModel.py'>"
      ]
     },
     "execution_count": 2,
     "metadata": {},
     "output_type": "execute_result"
    }
   ],
   "source": [
    "# !conda install -c conda-forge librosa\n",
    "\n",
    "# !conda install tqdm\n",
    "\n",
    "import torch as ch\n",
    "import torch.nn as nn\n",
    "import torch.functional as F\n",
    "import torch.utils.data as Data\n",
    "\n",
    "import numpy as np\n",
    "import pandas as pd\n",
    "import scipy as sp\n",
    "from matplotlib import pyplot as plt\n",
    "%matplotlib inline\n",
    "\n",
    "import os\n",
    "import string\n",
    "import librosa\n",
    "import tqdm\n",
    "import shutil\n",
    "# !pip install lws\n",
    "import lws\n",
    "import IPython.display as ipd\n",
    "from importlib import reload\n",
    "\n",
    "import utils\n",
    "reload(utils)\n",
    "import hyperparams\n",
    "reload(hyperparams)\n",
    "import datasets\n",
    "reload(datasets)\n",
    "import dcttsModel\n",
    "reload(dcttsModel)"
   ]
  },
  {
   "cell_type": "code",
   "execution_count": 3,
   "metadata": {},
   "outputs": [],
   "source": [
    "dev = ch.device('cuda:0' if ch.cuda.is_available() else 'cpu')\n",
    "if ch.cuda.is_available():\n",
    "    ch.multiprocessing.set_start_method(\"spawn\",force=True)"
   ]
  },
  {
   "cell_type": "code",
   "execution_count": 4,
   "metadata": {},
   "outputs": [
    {
     "name": "stdout",
     "output_type": "stream",
     "text": [
      "TEXT2MEL HYPERPARAMS {'sep': 0, 'alpha': 1, 'dropout': 0.05, 'norm': 2, 'lr': 0.001, 'chunk': 1, 'pad': 2, 'reversedDilation': 0}\n",
      "SSRN HYPERPARAMS {'sep': 1, 'alpha': 1, 'dropout': 0.05, 'norm': 2, 'lr': 0.001, 'reversedDilation': 0}\n"
     ]
    },
    {
     "data": {
      "text/plain": [
       "[23970288, 24991247]"
      ]
     },
     "execution_count": 4,
     "metadata": {},
     "output_type": "execute_result"
    }
   ],
   "source": [
    "# params = hyperparams.Hyperparams()\n",
    "ssrnParams = hyperparams.Hyperparams(sep=1,pad=None,chunk=None)\n",
    "text2MelParams = hyperparams.Hyperparams(sep=0,pad=2)\n",
    "ssrn = dcttsModel.SSRN(ssrnParams).to(dev)\n",
    "text2Mel = dcttsModel.Text2Mel(text2MelParams).to(dev)\n",
    "\n",
    "# print tunable hyperparams\n",
    "print('TEXT2MEL HYPERPARAMS',text2MelParams.paramDict)\n",
    "print('SSRN HYPERPARAMS',ssrnParams.paramDict)\n",
    "[sum(np.prod(p.size()) for p in m.parameters()) for m in (text2Mel,ssrn)]\n"
   ]
  },
  {
   "cell_type": "code",
   "execution_count": 5,
   "metadata": {},
   "outputs": [],
   "source": [
    "class DbinLoss(ch.nn.Module):\n",
    "    def __init__(self):\n",
    "        super(DbinLoss,self).__init__()\n",
    "    \n",
    "    def forward(self,Yhat,Y):\n",
    "        EPS = 1e-12\n",
    "        elLoss = -(Y*ch.log(Yhat+EPS)+(1-Y)*ch.log(1-Yhat+EPS))\n",
    "#         return elLoss.view(elLoss.shape[0],-1).mean(1)\n",
    "        return elLoss.mean()\n",
    "\n",
    "class GAttLoss(ch.nn.Module):\n",
    "    def __init__(self):\n",
    "        super(GAttLoss,self).__init__()\n",
    "            \n",
    "    def forward(self,A,I):\n",
    "        b,N,T = A.shape\n",
    "#         assert I.shape == (b,)\n",
    "# #         print(I)\n",
    "# #         print(sum(I).shape,sum(I))\n",
    "#         if ch.sum(I):\n",
    "        if text2MelParams.pad == 2:\n",
    "#             print('SLOW')\n",
    "            W = ch.Tensor([[[np.e**(-(n/N-(t-i)/T)**2 / (2*text2MelParams.g**2)) \n",
    "                             for t in range(1,T+1)] \n",
    "                            for n in range(1,N+1)]\n",
    "                           for i in range(b)])\n",
    "        else:\n",
    "#             print('FAST')\n",
    "            W = ch.Tensor([[np.e**(-(n/N-t/T)**2 / (2*text2MelParams.g**2)) \n",
    "                             for t in range(1,T+1)] \n",
    "                            for n in range(1,N+1)])\n",
    "#         W = ch.Tensor([[np.e**(-(n/N-t/T)**2 / (2*text2MelParams.g**2)) \n",
    "#                              for t in range(1,T+1)] \n",
    "#                             for n in range(1,N+1)])\n",
    "        W = W.to(dev)\n",
    "        return ((1-W)*A).mean()\n",
    "\n",
    "\n",
    "\n",
    "L1Fun = ch.nn.L1Loss()\n",
    "BCEFun = ch.nn.BCELoss()\n",
    "def MelFun(Shat,S): return L1Fun(Shat,S) + BCEFun(Shat,S)\n",
    "DbinFun = DbinLoss()\n",
    "GAttFun = GAttLoss()"
   ]
  },
  {
   "cell_type": "code",
   "execution_count": 6,
   "metadata": {},
   "outputs": [],
   "source": [
    "def text2MelLossFun(text2Mel,batch):\n",
    "    bL,bS,_,bI = batch\n",
    "    Shat,A = text2Mel(bL,bS)\n",
    "    melLoss = MelFun(Shat[:,:,:-text2Mel.params.chunk],bS[:,:,text2Mel.params.chunk:])\n",
    "#     print(bI)\n",
    "    attLoss = GAttFun(A,bI)\n",
    "    return melLoss + attLoss\n",
    "\n",
    "def text2MelDispFun(text2Mel,batch):\n",
    "#     bL,bS,bY,bI = batch\n",
    "    bL,bS,bY,i = [t[0:1] for t in batch] # only use first element of batch\n",
    "    print([bL.shape,bS.shape,bY.shape,i.shape])\n",
    "    print('LOSS:',text2MelLossFun(text2Mel,batch).item())\n",
    "    Shat,A = text2Mel(bL,bS)\n",
    "    bL,bS,Shat,A,bY,i = [t[0].cpu().detach().numpy() for t in (bL,bS,Shat,A,bY,i)]\n",
    "    print('PAD INDEX',i)\n",
    "    print('TEXT',\"\".join(text2Mel.params.i2c[c] for c in bL))\n",
    "    plt.imshow(bS,cmap='gray')\n",
    "    plt.show()\n",
    "    plt.imshow(Shat,cmap='gray')\n",
    "    plt.show()\n",
    "    plt.imshow(A,cmap='gray')\n",
    "    plt.show()"
   ]
  },
  {
   "cell_type": "code",
   "execution_count": 7,
   "metadata": {},
   "outputs": [],
   "source": [
    "# nWorkers = 8 if ch.cuda.is_available() else 0\n",
    "nWorkers = 6 if ch.cuda.is_available() else 0\n",
    "text2MelParams = hyperparams.Hyperparams(sep=0,pad=0)\n",
    "text2MelLoader = Data.DataLoader(datasets.LJSpeechDataset(ttmel=1,params=text2MelParams),\n",
    "                                 batch_size=16,\n",
    "                                 shuffle=True,\n",
    "                                 num_workers=nWorkers)\n",
    "text2Mel = dcttsModel.Text2Mel(text2MelParams).to(dev)\n",
    "text2MelOpt = ch.optim.Adam(text2Mel.parameters(),lr=text2MelParams.lr,\n",
    "                            betas=(text2MelParams.b1,text2MelParams.b2),\n",
    "                            eps=text2MelParams.eps)"
   ]
  },
  {
   "cell_type": "code",
   "execution_count": 8,
   "metadata": {},
   "outputs": [],
   "source": [
    "# for batch in tqdm.tqdm_notebook(text2MelLoader):\n",
    "#     pass"
   ]
  },
  {
   "cell_type": "code",
   "execution_count": 9,
   "metadata": {},
   "outputs": [
    {
     "name": "stdout",
     "output_type": "stream",
     "text": [
      "INITIALIZED text2Mel WITH HYPERPARAMS {'sep': 0, 'alpha': 1, 'dropout': 0.05, 'norm': 2, 'lr': 0.001, 'chunk': 1, 'pad': 0, 'reversedDilation': 0}\n",
      "TOTAL PARAM COUNT 23970288\n"
     ]
    }
   ],
   "source": [
    "text2MelWrapper = utils.ModelWrapper(network=text2Mel,optimizer=text2MelOpt,\n",
    "                                     lossFun=text2MelLossFun,loader=text2MelLoader,\n",
    "                                     modelName='text2Mel',dev=dev,dispFun=text2MelDispFun)"
   ]
  },
  {
   "cell_type": "code",
   "execution_count": null,
   "metadata": {},
   "outputs": [
    {
     "name": "stdout",
     "output_type": "stream",
     "text": [
      "EPOCH 0\n"
     ]
    },
    {
     "data": {
      "application/vnd.jupyter.widget-view+json": {
       "model_id": "d64416d5d9d940de948711fea10fb040",
       "version_major": 2,
       "version_minor": 0
      },
      "text/plain": [
       "HBox(children=(IntProgress(value=0, max=670), HTML(value='')))"
      ]
     },
     "metadata": {},
     "output_type": "display_data"
    }
   ],
   "source": [
    "text2MelWrapper.train(numEpochs=200)"
   ]
  },
  {
   "cell_type": "code",
   "execution_count": 80,
   "metadata": {},
   "outputs": [],
   "source": [
    "# text2MelWrapper.load()\n",
    "# text2MelWrapper.disp()"
   ]
  },
  {
   "cell_type": "code",
   "execution_count": 84,
   "metadata": {},
   "outputs": [],
   "source": [
    "# text2MelParams = hyperparams.Hyperparams(sep=0,pad=2)\n",
    "# text2MelLoader = Data.DataLoader(datasets.LJSpeechDataset(ttmel=1,params=text2MelParams),\n",
    "#                                  batch_size=16,\n",
    "#                                  shuffle=True,\n",
    "#                                  num_workers=nWorkers)\n",
    "# text2Mel = dcttsModel.Text2Mel(text2MelParams).to(dev)\n",
    "# text2MelOpt = ch.optim.Adam(text2Mel.parameters(),lr=text2MelParams.lr,\n",
    "#                             betas=(text2MelParams.b1,text2MelParams.b2),\n",
    "#                             eps=text2MelParams.eps)\n",
    "# text2MelWrapper = utils.ModelWrapper(network=text2Mel,optimizer=text2MelOpt,\n",
    "#                                      lossFun=text2MelLossFun,loader=text2MelLoader,\n",
    "#                                      modelName='text2Mel',dev=dev,dispFun=text2MelDispFun)\n",
    "# text2MelWrapper.train(numEpochs=1)\n",
    "# text2MelWrapper.disp(k=5)"
   ]
  },
  {
   "cell_type": "code",
   "execution_count": 30,
   "metadata": {},
   "outputs": [
    {
     "data": {
      "text/plain": [
       "[<matplotlib.lines.Line2D at 0x7fd10b93ec18>]"
      ]
     },
     "execution_count": 30,
     "metadata": {},
     "output_type": "execute_result"
    },
    {
     "data": {
      "image/png": "[encoded data removed]",
      "text/plain": [
       "<Figure size 432x288 with 1 Axes>"
      ]
     },
     "metadata": {},
     "output_type": "display_data"
    }
   ],
   "source": [
    "plt.plot(text2MelWrapper.lossHist[5:])"
   ]
  },
  {
   "cell_type": "code",
   "execution_count": null,
   "metadata": {},
   "outputs": [],
   "source": [
    "import datasets\n",
    "reload(datasets)\n",
    "\n",
    "nWorkers = 8 if ch.cuda.is_available() else 0\n",
    "ssrnLoader = Data.DataLoader(datasets.LJSpeechDataset(ttmel=0),\n",
    "                             batch_size=16,\n",
    "                             shuffle=True,\n",
    "                             num_workers=nWorkers)\n",
    "\n",
    "ssrn = dcttsModel.SSRN(c=params.c,F=params.F,Fp=params.Fp).to(dev)\n",
    "\n",
    "ssrnOpt = ch.optim.Adam(ssrn.parameters(),\n",
    "                        lr=params.lr,betas=(params.b1,params.b2),eps=params.eps)\n",
    "\n",
    "load = 1\n",
    "if load:\n",
    "    startEpoch,lossHist,bestLoss = utils.loadChkpt(ssrn,ssrnOpt,'ssrn',dev)\n",
    "else:\n",
    "    # COLD START - RESET SSRN\n",
    "    print('COLD START')\n",
    "    print('HYPERPARAMS',utils.paramDict)\n",
    "    ssrn = dcttsModel.SSRN(c=params.c,F=params.F,Fp=params.Fp).to(dev)\n",
    "    ssrnOpt = ch.optim.Adam(ssrn.parameters(),\n",
    "                        lr=params.lr,betas=(params.b1,params.b2),eps=params.eps)\n",
    "    startEpoch,lossHist,bestLoss = 0,[],float('inf')"
   ]
  }
 ],
 "metadata": {
  "anaconda-cloud": {},
  "kernelspec": {
   "display_name": "Python 3",
   "language": "python",
   "name": "python3"
  }
 },
 "nbformat": 4,
 "nbformat_minor": 1
}
