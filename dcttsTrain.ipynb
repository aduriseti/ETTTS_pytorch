{
 "cells": [
  {
   "cell_type": "code",
   "execution_count": 56,
   "metadata": {},
   "outputs": [],
   "source": [
    "# !conda install -c conda-forge librosa\n",
    "\n",
    "# !conda install tqdm"
   ]
  },
  {
   "cell_type": "code",
   "execution_count": 67,
   "metadata": {},
   "outputs": [
    {
     "data": {
      "text/plain": [
       "<module 'utils' from '/home/aduriseti/tts/ettts/utils.py'>"
      ]
     },
     "execution_count": 67,
     "metadata": {},
     "output_type": "execute_result"
    }
   ],
   "source": [
    "import torch as ch\n",
    "import torch.nn as nn\n",
    "import torch.functional as F\n",
    "import torch.utils.data as Data\n",
    "\n",
    "import numpy as np\n",
    "import pandas as pd\n",
    "import scipy as sp\n",
    "from matplotlib import pyplot as plt\n",
    "%matplotlib inline\n",
    "\n",
    "import os\n",
    "import string\n",
    "import librosa\n",
    "import tqdm\n",
    "import shutil\n",
    "# !pip install lws\n",
    "import lws\n",
    "import IPython.display as ipd\n",
    "from importlib import reload\n",
    "\n",
    "import hyperparams\n",
    "reload(hyperparams)\n",
    "params = hyperparams.Hyperparams\n",
    "import datasets\n",
    "reload(datasets)\n",
    "import dcttsModel\n",
    "# from dcttsModel import C,Cs,Css,D,HC,TextEnc,AudioEnc,AudioDec,Text2Mel,SSRN\n",
    "reload(dcttsModel)\n",
    "import utils\n",
    "# from utils import loadChkpt,saveChkpt\n",
    "reload(utils)"
   ]
  },
  {
   "cell_type": "code",
   "execution_count": 68,
   "metadata": {},
   "outputs": [
    {
     "name": "stdout",
     "output_type": "stream",
     "text": [
      "HYPERPARAMS {'sep': 0, 'alpha': 1, 'dropout': False, 'norm': 1, 'lr': 0.001, 'chunk': 1}\n"
     ]
    },
    {
     "data": {
      "text/plain": [
       "[23970160, 24991247]"
      ]
     },
     "execution_count": 68,
     "metadata": {},
     "output_type": "execute_result"
    }
   ],
   "source": [
    "# textEnc = dcttsModel.TextEnc(d=d,e=e,c2i=c2i)\n",
    "# audioEnc = AudioEnc(d=d,F=F)\n",
    "# audioDec = AudioDec(d=params.d,F=params.F).to(dev)\n",
    "\n",
    "ssrn = dcttsModel.SSRN(c=params.c,F=params.F,Fp=params.Fp).to(dev)\n",
    "text2Mel = dcttsModel.Text2Mel(d=params.d,e=params.e,c2i=params.c2i,F=params.F).to(dev)\n",
    "\n",
    "# print tunable hyperparams\n",
    "print('HYPERPARAMS',utils.paramDict)\n",
    "[sum(np.prod(p.size()) for p in m.parameters()) for m in (text2Mel,ssrn)]\n"
   ]
  },
  {
   "cell_type": "code",
   "execution_count": 69,
   "metadata": {},
   "outputs": [],
   "source": [
    "dev = ch.device('cuda:0' if ch.cuda.is_available() else 'cpu')\n",
    "if ch.cuda.is_available():\n",
    "    ch.multiprocessing.set_start_method(\"spawn\",force=True)"
   ]
  },
  {
   "cell_type": "code",
   "execution_count": 70,
   "metadata": {},
   "outputs": [],
   "source": [
    "class DbinLoss(ch.nn.Module):\n",
    "    def __init__(self):\n",
    "        super(DbinLoss,self).__init__()\n",
    "    \n",
    "    def forward(self,Yhat,Y):\n",
    "        EPS = 1e-12\n",
    "        elLoss = -(Y*ch.log(Yhat+EPS)+(1-Y)*ch.log(1-Yhat+EPS))\n",
    "#         return elLoss.view(elLoss.shape[0],-1).mean(1)\n",
    "        return elLoss.mean()\n",
    "\n",
    "class GAttLoss(ch.nn.Module):\n",
    "    def __init__(self):\n",
    "        super(GAttLoss,self).__init__()\n",
    "            \n",
    "    def forward(self,A):\n",
    "        _,N,T = A.shape\n",
    "        W = ch.Tensor([[np.e**(-(n/N-t/T)**2 / (2*params.g**2)) \n",
    "                        for t in range(1,T+1)] \n",
    "                       for n in range(1,N+1)])\n",
    "        W = W.to(dev)\n",
    "        return ((1-W)*A).mean()\n",
    "\n",
    "L1Fun = ch.nn.L1Loss()\n",
    "BCEFun = ch.nn.BCELoss()\n",
    "def MelFun(Shat,S): return L1Fun(Shat,S) + BCEFun(Shat,S)\n",
    "DbinFun = DbinLoss()\n",
    "GAttFun = GAttLoss()"
   ]
  },
  {
   "cell_type": "code",
   "execution_count": 71,
   "metadata": {},
   "outputs": [
    {
     "name": "stdout",
     "output_type": "stream",
     "text": [
      "COLD START\n",
      "HYPERPARAMS {'sep': 0, 'alpha': 1, 'dropout': False, 'norm': 1, 'lr': 0.001, 'chunk': 1}\n"
     ]
    }
   ],
   "source": [
    "import datasets\n",
    "from importlib import reload\n",
    "reload(datasets)\n",
    "\n",
    "nWorkers = 8 if ch.cuda.is_available() else 0\n",
    "text2MelLoader = Data.DataLoader(datasets.LJSpeechDataset(ttmel=1),\n",
    "                                 batch_size=16,\n",
    "                                 shuffle=True,\n",
    "                                 num_workers=nWorkers)\n",
    "\n",
    "text2Mel = dcttsModel.Text2Mel(d=params.d,e=params.e,c2i=params.c2i,F=params.F).to(dev)\n",
    "\n",
    "text2MelOpt = ch.optim.Adam(text2Mel.parameters(),\n",
    "                          lr=params.lr,betas=(params.b1,params.b2),eps=params.eps)\n",
    "\n",
    "load = 0\n",
    "if load:\n",
    "    startEpoch,lossHist,bestLoss = utils.loadChkpt(text2Mel,text2MelOpt,'text2Mel',dev)\n",
    "else:\n",
    "    # COLD START - RESET text2Mel\n",
    "    print('COLD START')\n",
    "    print('HYPERPARAMS',utils.paramDict)\n",
    "    text2Mel = dcttsModel.Text2Mel(d=params.d,e=params.e,c2i=params.c2i,F=params.F).to(dev)\n",
    "    text2MelOpt = ch.optim.Adam(text2Mel.parameters(),\n",
    "                      lr=params.lr,betas=(params.b1,params.b2),eps=params.eps)\n",
    "    startEpoch,lossHist,bestLoss = 0,[],float('inf')"
   ]
  },
  {
   "cell_type": "code",
   "execution_count": 72,
   "metadata": {},
   "outputs": [
    {
     "data": {
      "text/plain": [
       "[<matplotlib.lines.Line2D at 0x7fdbc6167668>]"
      ]
     },
     "execution_count": 72,
     "metadata": {},
     "output_type": "execute_result"
    },
    {
     "data": {
      "image/png": "[encoded data removed]",
      "text/plain": [
       "<Figure size 432x288 with 1 Axes>"
      ]
     },
     "metadata": {},
     "output_type": "display_data"
    }
   ],
   "source": [
    "plt.plot(lossHist)"
   ]
  },
  {
   "cell_type": "code",
   "execution_count": null,
   "metadata": {
    "scrolled": true
   },
   "outputs": [
    {
     "name": "stdout",
     "output_type": "stream",
     "text": [
      "EPOCH 0\n"
     ]
    },
    {
     "data": {
      "application/vnd.jupyter.widget-view+json": {
       "model_id": "e9612cbcd83a4239b6d004732620db69",
       "version_major": 2,
       "version_minor": 0
      },
      "text/plain": [
       "HBox(children=(IntProgress(value=1, bar_style='info', max=1), HTML(value='')))"
      ]
     },
     "metadata": {},
     "output_type": "display_data"
    },
    {
     "name": "stdout",
     "output_type": "stream",
     "text": [
      "\n",
      "epoch 0 total 0.9620675781769539 mel 0.7959132194519043 att 0.0008725656080059707\n",
      "HYPERPARAMS sep:0|alpha:1|dropout:False|norm:1|lr:0.001|chunk:1\n",
      "SAVED EPOCH 1, LOSS 0.9620675781769539, BEST LOSS 0.9620675781769539 TO ['./sep:0|alpha:1|dropout:False|norm:1|lr:0.001|chunk:1/text2MelChkpt.pth.tar', './text2MelChkpt.pth.tar', './sep:0|alpha:1|dropout:False|norm:1|lr:0.001|chunk:1/text2MelBest.pth.tar', './text2MelBest.pth.tar']\n"
     ]
    },
    {
     "data": {
      "image/png": "[encoded data removed]",
      "text/plain": [
       "<Figure size 432x288 with 1 Axes>"
      ]
     },
     "metadata": {},
     "output_type": "display_data"
    },
    {
     "data": {
      "image/png": "[encoded data removed]",
      "text/plain": [
       "<Figure size 432x288 with 1 Axes>"
      ]
     },
     "metadata": {},
     "output_type": "display_data"
    },
    {
     "data": {
      "image/png": "[encoded data removed]",
      "text/plain": [
       "<Figure size 432x288 with 1 Axes>"
      ]
     },
     "metadata": {},
     "output_type": "display_data"
    },
    {
     "name": "stdout",
     "output_type": "stream",
     "text": [
      "EPOCH 1\n"
     ]
    },
    {
     "data": {
      "application/vnd.jupyter.widget-view+json": {
       "model_id": "beabd539dc7f4d8e920bdce583c691f2",
       "version_major": 2,
       "version_minor": 0
      },
      "text/plain": [
       "HBox(children=(IntProgress(value=1, bar_style='info', max=1), HTML(value='')))"
      ]
     },
     "metadata": {},
     "output_type": "display_data"
    }
   ],
   "source": [
    "startEpoch = len(lossHist)\n",
    "train = 1\n",
    "for epoch in range(startEpoch,startEpoch+11*train):\n",
    "    print(\"EPOCH\",epoch)\n",
    "    epochLoss = []\n",
    "    for step,(batchL,batchS,_) in tqdm.tqdm_notebook(enumerate(text2MelLoader)):\n",
    "        batchL = batchL.to(dev)\n",
    "        batchS = batchS.to(dev)\n",
    "        bL = ch.autograd.Variable(batchL)\n",
    "        bS = ch.autograd.Variable(batchS)\n",
    "        Shat,A = text2Mel(bL,bS)\n",
    "        melloss = MelFun(Shat[:,:,:-params.chunk],bS[:,:,params.chunk:])\n",
    "        attloss = GAttFun(A)\n",
    "        loss = melloss + attloss\n",
    "        epochLoss.append(loss.data.item())\n",
    "        text2MelOpt.zero_grad()\n",
    "        loss.backward()\n",
    "        text2MelOpt.step()\n",
    "#         if step > 10: break\n",
    "    lossHist.append(np.mean(epochLoss))\n",
    "    print('epoch',epoch,'total',lossHist[-1],\n",
    "      'mel',melloss.data.item(),'att',attloss.data.item())\n",
    "    if epoch % 1 == 0:\n",
    "        bestLoss = min(lossHist[-1],bestLoss)\n",
    "        state = {\n",
    "            'epoch': epoch + 1,\n",
    "            'archparams': {'sep': params.sep, 'alpha': params.alpha},\n",
    "            'modelState': text2Mel.state_dict(),\n",
    "            'lossHist': lossHist,\n",
    "            'bestLoss': bestLoss,\n",
    "            'optimizerState': text2MelOpt.state_dict() \n",
    "        }\n",
    "        utils.saveChkpt(state,model='text2Mel')\n",
    "        plt.imshow(bS[0].cpu().detach().numpy(),cmap='gray')\n",
    "        plt.show()\n",
    "        plt.imshow(Shat[0].cpu().detach().numpy(),cmap='gray')\n",
    "        plt.show()\n",
    "        plt.imshow(A[0].cpu().detach().numpy(),cmap='gray')\n",
    "        plt.show()\n",
    "        if len(lossHist) > 10: plt.plot(lossHist)"
   ]
  },
  {
   "cell_type": "code",
   "execution_count": null,
   "metadata": {},
   "outputs": [],
   "source": [
    "import datasets\n",
    "reload(datasets)\n",
    "\n",
    "nWorkers = 8 if ch.cuda.is_available() else 0\n",
    "ssrnLoader = Data.DataLoader(datasets.LJSpeechDataset(ttmel=0),\n",
    "                             batch_size=16,\n",
    "                             shuffle=True,\n",
    "                             num_workers=nWorkers)\n",
    "\n",
    "ssrn = dcttsModel.SSRN(c=params.c,F=params.F,Fp=params.Fp).to(dev)\n",
    "\n",
    "ssrnOpt = ch.optim.Adam(ssrn.parameters(),\n",
    "                        lr=params.lr,betas=(params.b1,params.b2),eps=params.eps)\n",
    "\n",
    "load = 0\n",
    "if load:\n",
    "    startEpoch,lossHist,bestLoss = utils.loadChkpt(ssrn,ssrnOpt,'ssrn',dev)\n",
    "else:\n",
    "    # COLD START - RESET SSRN\n",
    "    ssrn = dcttsModel.SSRN(c=params.c,F=params.F,Fp=params.Fp).to(dev)\n",
    "    ssrnOpt = ch.optim.Adam(ssrn.parameters(),\n",
    "                        lr=params.lr,betas=(params.b1,params.b2),eps=params.eps)\n",
    "    startEpoch,lossHist,bestLoss = 0,[],float('inf')"
   ]
  },
  {
   "cell_type": "code",
   "execution_count": null,
   "metadata": {},
   "outputs": [],
   "source": [
    "plt.plot(lossHist)"
   ]
  },
  {
   "cell_type": "code",
   "execution_count": null,
   "metadata": {},
   "outputs": [],
   "source": [
    "startEpoch = len(lossHist)\n",
    "train = 1\n",
    "for epoch in range(startEpoch,startEpoch+11*train):\n",
    "    print(\"EPOCH\",epoch)\n",
    "    epochLoss = []\n",
    "    for step,(_,batchS,batchY) in tqdm.tqdm_notebook(enumerate(ssrnLoader)):\n",
    "        batchS = batchS.to(dev)\n",
    "        batchY = batchY.to(dev)\n",
    "        bS = ch.autograd.Variable(batchS)\n",
    "        bY = ch.autograd.Variable(batchY)\n",
    "        Yhat = ssrn(bS)\n",
    "        loss = MelFun(Yhat,bY)\n",
    "        epochLoss.append(loss.data.item())\n",
    "        ssrnOpt.zero_grad()\n",
    "        loss.backward()\n",
    "        ssrnOpt.step()\n",
    "        if step > 1: break\n",
    "    lossHist.append(np.mean(epochLoss))\n",
    "    bestLoss = min(bestLoss,lossHist[-1])\n",
    "    print('epoch',epoch,'total',lossHist[-1])\n",
    "    if epoch % 1 == 0:\n",
    "        state = {\n",
    "            'epoch': epoch,\n",
    "            'modelState': ssrn.state_dict(),\n",
    "            'lossHist': lossHist,\n",
    "            'bestLoss': bestLoss,\n",
    "            'optimizerState': ssrnOpt.state_dict() \n",
    "        }\n",
    "        utils.saveChkpt(state,model='ssrn')\n",
    "        plt.imshow(bS[0].cpu().detach().numpy(),cmap='gray')\n",
    "        plt.show()\n",
    "        plt.imshow(bY[0].cpu().detach().numpy(),cmap='gray')\n",
    "        plt.show()\n",
    "        plt.imshow(Yhat[0].cpu().detach().numpy(),cmap='gray')\n",
    "        plt.show()\n",
    "        if len(lossHist) > 10: plt.plot(lossHist)"
   ]
  },
  {
   "cell_type": "code",
   "execution_count": null,
   "metadata": {},
   "outputs": [],
   "source": []
  }
 ],
 "metadata": {
  "anaconda-cloud": {},
  "kernelspec": {
   "display_name": "Python 3",
   "language": "python",
   "name": "python3"
  },
  "language_info": {
   "codemirror_mode": {
    "name": "ipython",
    "version": 3
   },
   "file_extension": ".py",
   "mimetype": "text/x-python",
   "name": "python",
   "nbconvert_exporter": "python",
   "pygments_lexer": "ipython3",
   "version": "3.6.5"
  }
 },
 "nbformat": 4,
 "nbformat_minor": 1
}
