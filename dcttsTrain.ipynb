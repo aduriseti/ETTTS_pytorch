{
 "cells": [
  {
   "cell_type": "code",
   "execution_count": 1,
   "metadata": {},
   "outputs": [
    {
     "data": {
      "text/plain": [
       "<module 'dcttsModel' from '/home/aduriseti/tts/ettts_master/dcttsModel.py'>"
      ]
     },
     "execution_count": 1,
     "metadata": {},
     "output_type": "execute_result"
    }
   ],
   "source": [
    "# !conda install -c conda-forge librosa\n",
    "\n",
    "# !conda install tqdm\n",
    "\n",
    "import torch as ch\n",
    "import torch.nn as nn\n",
    "import torch.functional as F\n",
    "import torch.utils.data as Data\n",
    "\n",
    "import numpy as np\n",
    "import pandas as pd\n",
    "import scipy as sp\n",
    "from matplotlib import pyplot as plt\n",
    "%matplotlib inline\n",
    "\n",
    "import os\n",
    "import string\n",
    "import librosa\n",
    "import tqdm\n",
    "import shutil\n",
    "# !pip install lws\n",
    "import lws\n",
    "import IPython.display as ipd\n",
    "from importlib import reload\n",
    "\n",
    "import utils\n",
    "reload(utils)\n",
    "import hyperparams\n",
    "reload(hyperparams)\n",
    "import datasets\n",
    "reload(datasets)\n",
    "import dcttsModel\n",
    "reload(dcttsModel)"
   ]
  },
  {
   "cell_type": "code",
   "execution_count": 2,
   "metadata": {},
   "outputs": [],
   "source": [
    "dev = ch.device('cuda:0' if ch.cuda.is_available() else 'cpu')\n",
    "if ch.cuda.is_available():\n",
    "    ch.multiprocessing.set_start_method(\"spawn\",force=True)"
   ]
  },
  {
   "cell_type": "code",
   "execution_count": 3,
   "metadata": {},
   "outputs": [
    {
     "name": "stdout",
     "output_type": "stream",
     "text": [
      "TEXT2MEL HYPERPARAMS {'sep': 0, 'alpha': 1, 'dropout': 0.05, 'norm': 2, 'lr': 0.001, 'chunk': 1, 'pad': 2, 'reversedDilation': 0}\n",
      "SSRN HYPERPARAMS {'sep': 1, 'alpha': 1, 'dropout': 0.05, 'norm': 2, 'lr': 0.001, 'reversedDilation': 0}\n"
     ]
    },
    {
     "data": {
      "text/plain": [
       "[23970288, 24991247]"
      ]
     },
     "execution_count": 3,
     "metadata": {},
     "output_type": "execute_result"
    }
   ],
   "source": [
    "# params = hyperparams.Hyperparams()\n",
    "ssrnParams = hyperparams.Hyperparams(sep=1,pad=None,chunk=None)\n",
    "text2MelParams = hyperparams.Hyperparams(sep=0,pad=2)\n",
    "ssrn = dcttsModel.SSRN(ssrnParams).to(dev)\n",
    "text2Mel = dcttsModel.Text2Mel(text2MelParams).to(dev)\n",
    "\n",
    "# print tunable hyperparams\n",
    "print('TEXT2MEL HYPERPARAMS',text2MelParams.paramDict)\n",
    "print('SSRN HYPERPARAMS',ssrnParams.paramDict)\n",
    "[sum(np.prod(p.size()) for p in m.parameters()) for m in (text2Mel,ssrn)]\n"
   ]
  },
  {
   "cell_type": "code",
   "execution_count": 4,
   "metadata": {},
   "outputs": [],
   "source": [
    "class DbinLoss(ch.nn.Module):\n",
    "    def __init__(self):\n",
    "        super(DbinLoss,self).__init__()\n",
    "    \n",
    "    def forward(self,Yhat,Y):\n",
    "        EPS = 1e-12\n",
    "        elLoss = -(Y*ch.log(Yhat+EPS)+(1-Y)*ch.log(1-Yhat+EPS))\n",
    "#         return elLoss.view(elLoss.shape[0],-1).mean(1)\n",
    "        return elLoss.mean()\n",
    "\n",
    "class GAttLoss(ch.nn.Module):\n",
    "    def __init__(self):\n",
    "        super(GAttLoss,self).__init__()\n",
    "            \n",
    "    def forward(self,A,I):\n",
    "        b,N,T = A.shape\n",
    "        assert I.shape == (b,)\n",
    "        if text2MelParams.pad == 2:\n",
    "            W = ch.Tensor([[[np.e**(-(n/N-(t-i)/T)**2 / (2*text2MelParams.g**2)) \n",
    "                             for t in range(1,T+1)] \n",
    "                            for n in range(1,N+1)]\n",
    "                           for i in range(b)])\n",
    "        else:\n",
    "            W = ch.Tensor([[np.e**(-(n/N-t/T)**2 / (2*text2MelParams.g**2)) \n",
    "                             for t in range(1,T+1)] \n",
    "                            for n in range(1,N+1)])\n",
    "        W = W.to(dev)\n",
    "        return ((1-W)*A).mean()\n",
    "\n",
    "\n",
    "\n",
    "L1Fun = ch.nn.L1Loss()\n",
    "BCEFun = ch.nn.BCELoss()\n",
    "def SpecLossFun(Shat,S): return L1Fun(Shat,S) + BCEFun(Shat,S)\n",
    "DbinFun = DbinLoss()\n",
    "GAttFun = GAttLoss()"
   ]
  },
  {
   "cell_type": "code",
   "execution_count": 5,
   "metadata": {},
   "outputs": [],
   "source": [
    "def text2MelLossFun(text2Mel,batch):\n",
    "    bL,bS,_,bI = batch\n",
    "    Shat,A = text2Mel(bL,bS)\n",
    "    melLoss = SpecLossFun(Shat[:,:,:-text2Mel.params.chunk],bS[:,:,text2Mel.params.chunk:])\n",
    "#     print(bI)\n",
    "    attLoss = GAttFun(A,bI)\n",
    "    return melLoss + attLoss\n",
    "\n",
    "def text2MelDispFun(text2Mel,batch):\n",
    "    bL,bS,bY,i = [t[0:1] for t in batch] # only use first element of batch\n",
    "    print([bL.shape,bS.shape,bY.shape,i.shape])\n",
    "    print('LOSS:',text2MelLossFun(text2Mel,batch).item())\n",
    "    Shat,A = text2Mel(bL,bS)\n",
    "    bL,bS,Shat,A,bY,i = [t[0].cpu().detach().numpy() for t in (bL,bS,Shat,A,bY,i)]\n",
    "    print('PAD INDEX',i)\n",
    "    print('TEXT',\"\".join(text2Mel.params.i2c[c] for c in bL))\n",
    "    plt.imshow(bS,cmap='gray')\n",
    "    plt.show()\n",
    "    plt.imshow(Shat,cmap='gray')\n",
    "    plt.show()\n",
    "    plt.imshow(A,cmap='gray')\n",
    "    plt.show()"
   ]
  },
  {
   "cell_type": "code",
   "execution_count": 6,
   "metadata": {},
   "outputs": [
    {
     "name": "stdout",
     "output_type": "stream",
     "text": [
      "INITIALIZED text2Mel WITH HYPERPARAMS {'sep': 0, 'alpha': 1, 'dropout': 0.05, 'norm': 2, 'lr': 0.001, 'chunk': 1, 'pad': 0, 'reversedDilation': 0}\n",
      "TOTAL PARAM COUNT 23970288\n"
     ]
    }
   ],
   "source": [
    "text2MelParams = hyperparams.Hyperparams(sep=0,pad=0)\n",
    "# nWorkers = 8 if ch.cuda.is_available() else 0\n",
    "nWorkers = 6 if ch.cuda.is_available() else 0\n",
    "text2MelLoader = Data.DataLoader(datasets.LJSpeechDataset(ttmel=1,params=text2MelParams),\n",
    "                                 batch_size=16,\n",
    "                                 shuffle=True,\n",
    "                                 num_workers=nWorkers)\n",
    "text2Mel = dcttsModel.Text2Mel(text2MelParams).to(dev)\n",
    "text2MelOpt = ch.optim.Adam(text2Mel.parameters(),lr=text2MelParams.lr,\n",
    "                            betas=(text2MelParams.b1,text2MelParams.b2),\n",
    "                            eps=text2MelParams.eps)\n",
    "text2MelWrapper = utils.ModelWrapper(network=text2Mel,optimizer=text2MelOpt,\n",
    "                                     lossFun=text2MelLossFun,loader=text2MelLoader,\n",
    "                                     modelName='text2Mel',dev=dev,dispFun=text2MelDispFun)"
   ]
  },
  {
   "cell_type": "code",
   "execution_count": 7,
   "metadata": {},
   "outputs": [
    {
     "name": "stdout",
     "output_type": "stream",
     "text": [
      "HYPERPARAMS sep:0|alpha:1|dropout:0.05|norm:2|lr:0.001|chunk:1|pad:0|reversedDilation:0\n",
      "LOADED EPOCH 151, LOSS 0.02429003938476541, BEST LOSS 0.0242831606320592 FROM ./sep:0|alpha:1|dropout:0.05|norm:2|lr:0.001|chunk:1|pad:0|reversedDilation:0/text2MelChkpt.pth.tar\n"
     ]
    },
    {
     "data": {
      "text/plain": [
       "[<matplotlib.lines.Line2D at 0x7fe3d0a47b38>]"
      ]
     },
     "execution_count": 7,
     "metadata": {},
     "output_type": "execute_result"
    },
    {
     "data": {
      "image/png": "[encoded data removed]",
      "text/plain": [
       "<Figure size 432x288 with 1 Axes>"
      ]
     },
     "metadata": {},
     "output_type": "display_data"
    }
   ],
   "source": [
    "text2MelWrapper.load()\n",
    "plt.plot(text2MelWrapper.lossHist[5:])"
   ]
  },
  {
   "cell_type": "code",
   "execution_count": 8,
   "metadata": {},
   "outputs": [],
   "source": [
    "def ssrnLossFun(ssrn,batch):\n",
    "    _,bS,bY,_ = batch\n",
    "    Yhat = ssrn(bS)\n",
    "    return SpecLossFun(Yhat,bY)\n",
    "\n",
    "def ssrnDispFun(ssrn,batch):\n",
    "    bL,bS,bY,i = [t[0:1] for t in batch] # only use first element of batch\n",
    "#     print([t.device for t in batch])\n",
    "    print('LOSS:',ssrnLossFun(ssrn,batch).item())\n",
    "    print(bS.shape)\n",
    "    Yhat = ssrn(bS)\n",
    "    bL,bS,bY,Yhat,i = [t[0].cpu().detach().numpy() for t in (bL,bS,bY,Yhat,i)]\n",
    "    print('PAD INDEX',i)\n",
    "    print('TEXT',\"\".join(ssrn.params.i2c[c] for c in bL))\n",
    "    plt.imshow(bS,cmap='gray')\n",
    "    plt.show()\n",
    "    plt.imshow(bY,cmap='gray')\n",
    "    plt.show()\n",
    "    plt.imshow(Yhat,cmap='gray')\n",
    "    plt.show()"
   ]
  },
  {
   "cell_type": "code",
   "execution_count": 9,
   "metadata": {},
   "outputs": [
    {
     "name": "stdout",
     "output_type": "stream",
     "text": [
      "INITIALIZED ssrn WITH HYPERPARAMS {'sep': 0, 'alpha': 1, 'dropout': 0.05, 'norm': 2, 'lr': 0.001, 'chunk': 1}\n",
      "TOTAL PARAM COUNT 24991247\n"
     ]
    }
   ],
   "source": [
    "ssrnParams = hyperparams.Hyperparams(sep=0,pad=None,reversedDilation=None)\n",
    "# nWorkers = 8 if ch.cuda.is_available() else 0\n",
    "nWorkers = 6 if ch.cuda.is_available() else 0\n",
    "ssrnLoader = Data.DataLoader(datasets.LJSpeechDataset(ttmel=0),\n",
    "                             batch_size=16,\n",
    "                             shuffle=True,\n",
    "                             num_workers=nWorkers)\n",
    "ssrn = dcttsModel.SSRN(ssrnParams).to(dev)\n",
    "ssrnOpt = ch.optim.Adam(ssrn.parameters(),lr=ssrnParams.lr,\n",
    "                        betas=(ssrnParams.b1,ssrnParams.b2),\n",
    "                        eps=ssrnParams.eps)\n",
    "ssrnWrapper = utils.ModelWrapper(network=ssrn,optimizer=ssrnOpt,\n",
    "                                 lossFun=ssrnLossFun,loader=ssrnLoader,\n",
    "                                 modelName='ssrn',dev=dev,dispFun=ssrnDispFun)"
   ]
  },
  {
   "cell_type": "code",
   "execution_count": null,
   "metadata": {},
   "outputs": [
    {
     "name": "stdout",
     "output_type": "stream",
     "text": [
      "EPOCH 0\n"
     ]
    },
    {
     "data": {
      "application/vnd.jupyter.widget-view+json": {
       "model_id": "952c13a4b81549ff89d34aca047146dd",
       "version_major": 2,
       "version_minor": 0
      },
      "text/plain": [
       "HBox(children=(IntProgress(value=0, max=670), HTML(value='')))"
      ]
     },
     "metadata": {},
     "output_type": "display_data"
    }
   ],
   "source": [
    "ssrnWrapper.train(numEpochs=50)"
   ]
  },
  {
   "cell_type": "code",
   "execution_count": null,
   "metadata": {},
   "outputs": [],
   "source": []
  }
 ],
 "metadata": {
  "anaconda-cloud": {},
  "kernelspec": {
   "display_name": "Python 3",
   "language": "python",
   "name": "python3"
  },
  "language_info": {
   "codemirror_mode": {
    "name": "ipython",
    "version": 3
   },
   "file_extension": ".py",
   "mimetype": "text/x-python",
   "name": "python",
   "nbconvert_exporter": "python",
   "pygments_lexer": "ipython3",
   "version": "3.6.5"
  }
 },
 "nbformat": 4,
 "nbformat_minor": 1
}
