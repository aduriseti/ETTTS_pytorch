{
 "cells": [
  {
   "cell_type": "code",
   "execution_count": 1,
   "metadata": {},
   "outputs": [],
   "source": [
    "# !conda install -c conda-forge librosa\n",
    "\n",
    "# !conda install tqdm"
   ]
  },
  {
   "cell_type": "code",
   "execution_count": 2,
   "metadata": {},
   "outputs": [],
   "source": [
    "import torch as ch\n",
    "import torch.nn as nn\n",
    "import torch.functional as F\n",
    "import numpy as np\n",
    "import pandas as pd\n",
    "import scipy as sp\n",
    "from matplotlib import pyplot as plt\n",
    "%matplotlib inline\n",
    "\n",
    "import os\n",
    "import string\n",
    "import librosa\n",
    "\n",
    "import tqdm\n",
    "\n",
    "import torch.utils.data as Data\n",
    "import datasets"
   ]
  },
  {
   "cell_type": "code",
   "execution_count": 3,
   "metadata": {},
   "outputs": [],
   "source": [
    "import shutil"
   ]
  },
  {
   "cell_type": "code",
   "execution_count": 4,
   "metadata": {},
   "outputs": [],
   "source": [
    "class C(ch.nn.Module):\n",
    "    def __init__(self,o,i,k,d,causal,s=1):\n",
    "        super(C,self).__init__()\n",
    "        self.causal = causal\n",
    "        assert (k-1)%2 == 0 \n",
    "        if causal:\n",
    "            self.pad = (k-1)*d\n",
    "        else:\n",
    "#             print('filter',k,'dilation',d,'total pad',(k-1)*d,'half pad',(k-1)*d//2)\n",
    "            self.pad = (k-1)*d // 2 \n",
    "        self.conv = ch.nn.Conv1d(out_channels=o, in_channels=i,\n",
    "                    kernel_size=k, dilation=d, stride=s, padding=self.pad)\n",
    "        ch.nn.init.kaiming_normal_(self.conv.weight.data)\n",
    "        self.dilation = d\n",
    "    \n",
    "    def forward(self,X):\n",
    "        O = self.conv(X)\n",
    "        return O[:,:,:-self.pad] if self.causal and self.pad else O"
   ]
  },
  {
   "cell_type": "code",
   "execution_count": 5,
   "metadata": {},
   "outputs": [],
   "source": [
    "class Cs(ch.nn.Module):\n",
    "    def __init__(self,o,i,k,d,causal,s=1):\n",
    "        super(C,self).__init__()\n",
    "        self.causal = causal\n",
    "        assert (k-1)%2 == 0 \n",
    "        if causal:\n",
    "            self.pad = (k-1)*d\n",
    "        else:\n",
    "            self.pad = (k-1)*d // 2 \n",
    "#         self.conv = ch.nn.Conv1d(out_channels=o, in_channels=i,\n",
    "#                     kernel_size=k, dilation=d, stride=s, padding=pad)\n",
    "        self.depthwise = ch.nn.Conv1d(out_channels=i, in_channels=i,\n",
    "                        kernel_size=k, dilation=d, stride=s,\n",
    "                        padding=self.pad, groups=i)\n",
    "        self.pointwise = ch.nn.Conv1d(out_channels=o, in_channels=i,kernel_size=1)\n",
    "        ch.nn.init.kaiming_normal_(self.depthwise.weight.data)\n",
    "        ch.nn.init.kaiming_normal_(self.pointwise.weight.data)\n",
    "    \n",
    "    def forward(self,X):\n",
    "        O = self.pointwise(self.depthwise(X))\n",
    "        return O[:,:,:-self.pad] if self.causal else O"
   ]
  },
  {
   "cell_type": "code",
   "execution_count": 6,
   "metadata": {},
   "outputs": [],
   "source": [
    "class Css(ch.nn.Module):\n",
    "    def __init__(self,o,i,k,d,causal,s=1):\n",
    "        super(C,self).__init__()\n",
    "        self.causal = causal\n",
    "        assert (k-1)%2 == 0 \n",
    "        if causal:\n",
    "            self.pad = (k-1)*d\n",
    "        else:\n",
    "            self.pad = (k-1)*d // 2 \n",
    "#         self.conv = ch.nn.Conv1d(out_channels=o, in_channels=i,\n",
    "#                     kernel_size=k, dilation=d, stride=s, padding=pad)\n",
    "        self.depthwise = ch.nn.Conv1d(out_channels=i, in_channels=i,\n",
    "                        kernel_size=k, dilation=d, stride=s,\n",
    "                        padding=self.pad, groups=i)\n",
    "        self.pointwise = ch.nn.Conv1d(out_channels=o, in_channels=i,\n",
    "                                      kernel_size=1, groups=4)\n",
    "        ch.nn.init.kaiming_normal_(self.depthwise.weight.data)\n",
    "        ch.nn.init.kaiming_normal_(self.pointwise.weight.data)\n",
    "    \n",
    "    def forward(self,X):\n",
    "        O = self.pointwise(self.depthwise(X))\n",
    "        return O[:,:,:-self.pad] if self.causal else O"
   ]
  },
  {
   "cell_type": "code",
   "execution_count": 7,
   "metadata": {},
   "outputs": [
    {
     "data": {
      "text/plain": [
       "torch.Size([3, 8, 10])"
      ]
     },
     "execution_count": 7,
     "metadata": {},
     "output_type": "execute_result"
    }
   ],
   "source": [
    "conv = C(8,4,3,1,0)\n",
    "conv(ch.rand(3,4,10)).shape"
   ]
  },
  {
   "cell_type": "code",
   "execution_count": 8,
   "metadata": {},
   "outputs": [],
   "source": [
    "class D(ch.nn.Module):\n",
    "    def __init__(self,o,i,k,d,causal=0,s=2):\n",
    "        super(D,self).__init__()\n",
    "        self.tconv = ch.nn.ConvTranspose1d(out_channels=o, in_channels=i, \n",
    "                       kernel_size=k, dilation=d, stride=s)\n",
    "        ch.nn.init.kaiming_normal_(self.tconv.weight.data)\n",
    "    \n",
    "    def forward(self,X):\n",
    "        return self.tconv(X)"
   ]
  },
  {
   "cell_type": "code",
   "execution_count": 9,
   "metadata": {},
   "outputs": [],
   "source": [
    "class HC(ch.nn.Module):\n",
    "    def __init__(self,o,i,k,d,causal,s=1):\n",
    "        assert o == i\n",
    "        super(HC,self).__init__()\n",
    "        self.o = o\n",
    "        self.conv = C(2*o,i,k,d,causal,s)\n",
    "\n",
    "    def forward(self,X):\n",
    "        H = self.conv(X)\n",
    "        H1,H2 = H[:,:self.o,:],H[:,self.o:,:]\n",
    "        G = ch.sigmoid(H1)\n",
    "        return G*H2 + (1-G)*X"
   ]
  },
  {
   "cell_type": "code",
   "execution_count": 10,
   "metadata": {},
   "outputs": [],
   "source": [
    "class TextEnc(ch.nn.Module):\n",
    "    def __init__(self,d,e,c2i):\n",
    "        super(TextEnc,self).__init__()\n",
    "        c = 0 # non causal\n",
    "        self.embed = ch.nn.Embedding(len(c2i),e)\n",
    "        ch.nn.init.kaiming_normal_(self.embed.weight.data)\n",
    "        layers = [C(2*d,e,1,1,c),ch.nn.ReLU(),C(2*d,2*d,1,1,c)]\n",
    "        for _ in range(2):\n",
    "            layers += [HC(2*d,2*d,3,3**ldf,c) for ldf in range(4)]\n",
    "        layers += [HC(2*d,2*d,3,1,c) for _ in range(2)]\n",
    "        layers += [HC(2*d,2*d,1,1,c) for _ in range(2)]\n",
    "        self.seq = ch.nn.Sequential(*layers)\n",
    "    \n",
    "    def forward(self,L):\n",
    "        # permute b/c next layer expects dims to be [batch,embed,seq]\n",
    "        # output of embed layer is [batch,seq,embed]\n",
    "#         print(L.shape,self.embed(L).shape)\n",
    "#         print(self.embed(L).permute(0,2,1).shape)\n",
    "        return self.seq(self.embed(L).permute(0,2,1))"
   ]
  },
  {
   "cell_type": "code",
   "execution_count": 11,
   "metadata": {},
   "outputs": [],
   "source": [
    "class AudioEnc(ch.nn.Module):\n",
    "    def __init__(self,d,F):\n",
    "        super(AudioEnc,self).__init__()\n",
    "        c = 1 # causal\n",
    "        layers = [C(d,F,1,1,c),ch.nn.ReLU(),C(d,d,1,1,c),ch.nn.ReLU(),C(d,d,1,1,c)]\n",
    "        for _ in range(2):\n",
    "            layers += [HC(d,d,3,3**ldf,c) for ldf in range(4)]\n",
    "        layers += [HC(d,d,3,3,c) for _ in range(2)]\n",
    "        self.seq = ch.nn.Sequential(*layers)\n",
    "        \n",
    "    def forward(self,S):\n",
    "        return self.seq(S)"
   ]
  },
  {
   "cell_type": "code",
   "execution_count": 12,
   "metadata": {},
   "outputs": [],
   "source": [
    "class Text2Mel(ch.nn.Module):\n",
    "    def __init__(self,d,e,c2i,F):\n",
    "        super(Text2Mel,self).__init__()\n",
    "        self.d = d\n",
    "        self.textEnc = TextEnc(d,e,c2i)\n",
    "        self.audioEnc = AudioEnc(d,F)\n",
    "    \n",
    "    def forward(self,L,S):\n",
    "        KV = self.textEnc(L)\n",
    "        K,V = KV[:,:self.d,:],KV[:,self.d:,:]\n",
    "        Q = self.audioEnc(S[:,:,:])\n",
    "#         print('K',K.shape,'V',V.shape,'Q',Q.shape)\n",
    "        A = ch.nn.Softmax(dim=1)(ch.matmul(ch.transpose(K,-1,-2),Q) / self.d**0.5)\n",
    "        R = ch.matmul(V,A)\n",
    "#         print('R',R.shape,'Q',Q.shape)\n",
    "        return ch.cat([R,Q],dim=1),A"
   ]
  },
  {
   "cell_type": "code",
   "execution_count": 13,
   "metadata": {},
   "outputs": [],
   "source": [
    "class AudioDec(ch.nn.Module):\n",
    "    def __init__(self,d,F):\n",
    "        super(AudioDec,self).__init__()\n",
    "        s = 1 # causal\n",
    "        layers = [C(d,2*d,1,1,s)]\n",
    "        for _ in range(1): #?\n",
    "            layers += [HC(d,d,3,3**ldf,s) for ldf in range(4)]\n",
    "        layers += [HC(d,d,3,1,s) for _ in range(2)]\n",
    "        for _ in range(3): \n",
    "            layers += [C(d,d,1,1,s),ch.nn.ReLU()]\n",
    "        layers += [C(F,d,1,1,s),ch.nn.Sigmoid()]\n",
    "        self.seq = ch.nn.Sequential(*layers)\n",
    "    \n",
    "    def forward(self,Rp):\n",
    "        return self.seq(Rp)"
   ]
  },
  {
   "cell_type": "code",
   "execution_count": 14,
   "metadata": {},
   "outputs": [],
   "source": [
    "class SSRN(ch.nn.Module):\n",
    "    def __init__(self,c,F,Fp):\n",
    "        super(SSRN,self).__init__()\n",
    "        s = 0 # non causal\n",
    "        layers = [C(c,F,1,1,s)]\n",
    "        for _ in range(1): #?\n",
    "            layers += [HC(c,c,3,1,s),HC(c,c,3,3,s)]\n",
    "        for _ in range(2):\n",
    "            layers += [D(c,c,2,1),HC(c,c,3,1,s),HC(c,c,3,3,s)]\n",
    "        layers += [C(2*c,c,1,1,s)]\n",
    "        layers += [HC(2*c,2*c,3,1,s) for _ in range(2)]\n",
    "        layers += [C(Fp,2*c,1,1,s)]\n",
    "        for _ in range(2):\n",
    "            layers += [C(Fp,Fp,1,1,s),ch.nn.ReLU()]\n",
    "        layers += [C(Fp,Fp,1,1,s),ch.nn.Sigmoid()]\n",
    "        self.seq = ch.nn.Sequential(*layers)\n",
    "    \n",
    "    def forward(self,Y):\n",
    "        return self.seq(Y)"
   ]
  },
  {
   "cell_type": "code",
   "execution_count": 15,
   "metadata": {},
   "outputs": [],
   "source": [
    "# conv = C(3,2,3,1,0)\n",
    "# tconv = D(3,2,2,1,2)\n",
    "# hconv = HC(2,2,3,1,0)\n",
    "# I.shape,conv(I).shape,tconv(I).shape,hconv(I).shape"
   ]
  },
  {
   "cell_type": "code",
   "execution_count": 16,
   "metadata": {},
   "outputs": [],
   "source": [
    "class params:\n",
    "    sep = 0\n",
    "    alpha = 0.5\n",
    "    d = int(256*alpha)\n",
    "    e = int(128*alpha)\n",
    "    c2i = datasets.LJSpeechDataset().c2i\n",
    "    c = int(512*alpha)\n",
    "    F = 80\n",
    "    Fp = 513\n",
    "    \n",
    "    g=0.2\n",
    "    \n",
    "    lr = 2e-4\n",
    "    init_lr=2e-4\n",
    "    b1 = 0.5\n",
    "    b2 = 0.9\n",
    "    eps = 1e-6\n",
    "    \n",
    "    logevery = 200\n",
    "    \n",
    "    dropout_rate = 0.1\n",
    "    masking = False\n",
    "    \n",
    "    gamma = 0.6\n",
    "    eta = 1.3\n",
    "    nFFT = 1024\n",
    "    hopL = 256\n",
    "    nMel = 80"
   ]
  },
  {
   "cell_type": "code",
   "execution_count": 17,
   "metadata": {},
   "outputs": [],
   "source": [
    "# # textEnc = TextEnc(d=d,e=e,c2i=c2i)\n",
    "# # audioEnc = AudioEnc(d=d,F=F)\n",
    "# audioDec = AudioDec(d=params.d,F=params.F).to(dev)\n",
    "# ssrn = SSRN(c=params.c,F=params.F,Fp=params.Fp).to(dev)\n",
    "# text2Mel = Text2Mel(d=params.d,e=params.e,c2i=params.c2i,F=params.F).to(dev)\n",
    "\n",
    "# # alpha = 0.5, super-separable\n",
    "# [sum(np.prod(p.size()) for p in m.parameters()) for m in (text2Mel,audioDec,ssrn)]"
   ]
  },
  {
   "cell_type": "code",
   "execution_count": 18,
   "metadata": {},
   "outputs": [],
   "source": [
    "ch.cuda.current_device()\n",
    "dev = ch.device('cuda:0' if ch.cuda.is_available() else 'cpu')\n",
    "ch.multiprocessing.set_start_method(\"spawn\",force=True)"
   ]
  },
  {
   "cell_type": "code",
   "execution_count": 19,
   "metadata": {},
   "outputs": [],
   "source": [
    "class DbinLoss(ch.nn.Module):\n",
    "    def __init__(self):\n",
    "        super(DbinLoss,self).__init__()\n",
    "    \n",
    "    def forward(self,Yhat,Y):\n",
    "        EPS = 1e-12\n",
    "        elLoss = -(Y*ch.log(Yhat+EPS)+(1-Y)*ch.log(1-Yhat+EPS))\n",
    "#         return elLoss.view(elLoss.shape[0],-1).mean(1)\n",
    "        return elLoss.mean()"
   ]
  },
  {
   "cell_type": "code",
   "execution_count": 20,
   "metadata": {},
   "outputs": [],
   "source": [
    "class GAttLoss(ch.nn.Module):\n",
    "    def __init__(self):\n",
    "        super(GAttLoss,self).__init__()\n",
    "            \n",
    "    def forward(self,A):\n",
    "        _,N,T = A.shape\n",
    "        W = ch.Tensor([[np.e**(-(n/N-t/T)**2 / (2*params.g**2)) \n",
    "                        for t in range(1,T+1)] \n",
    "                       for n in range(1,N+1)])\n",
    "        W = W.to(dev)\n",
    "        return ((1-W)*A).mean()"
   ]
  },
  {
   "cell_type": "code",
   "execution_count": 21,
   "metadata": {},
   "outputs": [],
   "source": [
    "L1Fun = ch.nn.L1Loss()\n",
    "BCEFun = ch.nn.BCELoss()\n",
    "def MelFun(Shat,S): return L1Fun(Shat,S) + BCEFun(Shat,S)\n",
    "DbinFun = DbinLoss()\n",
    "GAttFun = GAttLoss()"
   ]
  },
  {
   "cell_type": "code",
   "execution_count": 22,
   "metadata": {},
   "outputs": [],
   "source": [
    "def saveChkpt(state,model,root='.'):\n",
    "#     chkptDir = os.path.join(root,'CHKPT'+''.join(p+str(v) for p,v in state['archparams']))\n",
    "    chkptDir = root\n",
    "    chkptPath = os.path.join(chkptDir,model+'Chkpt.pth.tar')\n",
    "    bestPath = os.path.join(chkptDir,model+'Best.pth.tar')\n",
    "    if not os.path.exists(chkptDir): os.makedirs(chkptDir)    \n",
    "    ch.save(state,chkptPath)\n",
    "    if state['lossHist'][-1] == state['bestLoss']:\n",
    "        shutil.copyfile(chkptPath,bestPath)\n",
    "    print(\"SAVED EPOCH {}, LOSS {}, BEST LOSS {}\".format(state['epoch'],state['lossHist'][-1],state['bestLoss']))"
   ]
  },
  {
   "cell_type": "code",
   "execution_count": 23,
   "metadata": {},
   "outputs": [],
   "source": [
    "def loadChkpt(networks,optimizer,model,root='.'):\n",
    "    # return epoch num and best loss of checkpoint\n",
    "    chkptDir = root\n",
    "    chkptPath = os.path.join(chkptDir,model+'Chkpt.pth.tar')\n",
    "    bestPath = os.path.join(chkptDir,model+'Best.pth.tar')\n",
    "    if not os.path.exists(chkptPath): return 0,[],float('inf')\n",
    "    state = ch.load(chkptPath)\n",
    "    if model == 'text2Mel':\n",
    "        text2Mel,audioDec = networks\n",
    "        text2Mel.load_state_dict(state['text2MelState'])\n",
    "        audioDec.load_state_dict(state['audioDecState'])\n",
    "    elif model == 'ssrn':\n",
    "        ssrn, = networks\n",
    "        ssrn.load_state_dict(state['ssrnState'])\n",
    "    optimizer.load_state_dict(state['optimizerState'])\n",
    "    if len(state['lossHist']) > 10: plt.plot(state['lossHist'])\n",
    "    print(\"LOADED EPOCH {}, LOSS {}, BEST LOSS {}\".format(state['epoch'],state['lossHist'][-1],state['bestLoss']))\n",
    "    return state['epoch'],state['lossHist'],state['bestLoss']"
   ]
  },
  {
   "cell_type": "code",
   "execution_count": 24,
   "metadata": {},
   "outputs": [],
   "source": [
    "import datasets\n",
    "from importlib import reload\n",
    "reload(datasets)\n",
    "\n",
    "text2MelLoader = Data.DataLoader(datasets.LJSpeechDataset(ttmel=1),\n",
    "                                 batch_size=16,\n",
    "                                 shuffle=True,\n",
    "                                 num_workers=8)\n",
    "\n",
    "audioDec = AudioDec(d=params.d,F=params.F).to(dev)\n",
    "text2Mel = Text2Mel(d=params.d,e=params.e,c2i=params.c2i,F=params.F).to(dev)\n",
    "\n",
    "text2MelOpt = ch.optim.Adam(set(text2Mel.parameters())|set(audioDec.parameters()),\n",
    "                          lr=params.lr,betas=(params.b1,params.b2),eps=params.eps)\n",
    "\n",
    "load = 1\n",
    "if load:\n",
    "    startEpoch,lossHist,bestLoss = loadChkpt((text2Mel,audioDec),text2MelOpt,'text2Mel')\n",
    "else:\n",
    "    # COLD START - RESET text2Mel\n",
    "    audioDec = AudioDec(d=params.d,F=params.F).to(dev)\n",
    "    text2Mel = Text2Mel(d=params.d,e=params.e,c2i=params.c2i,F=params.F).to(dev)\n",
    "    text2MelOpt = ch.optim.Adam(set(text2Mel.parameters())|set(audioDec.parameters()),\n",
    "                      lr=params.lr,betas=(params.b1,params.b2),eps=params.eps)\n",
    "    startEpoch,lossHist,bestLoss = 0,[],float('inf')"
   ]
  },
  {
   "cell_type": "code",
   "execution_count": 26,
   "metadata": {},
   "outputs": [
    {
     "data": {
      "text/plain": [
       "[<matplotlib.lines.Line2D at 0x7f67c5aa4b38>]"
      ]
     },
     "execution_count": 26,
     "metadata": {},
     "output_type": "execute_result"
    },
    {
     "data": {
      "image/png": "[encoded data removed]",
      "text/plain": [
       "<Figure size 432x288 with 1 Axes>"
      ]
     },
     "metadata": {},
     "output_type": "display_data"
    }
   ],
   "source": [
    "plt.plot(lossHist[2:])"
   ]
  },
  {
   "cell_type": "code",
   "execution_count": 27,
   "metadata": {
    "scrolled": true
   },
   "outputs": [],
   "source": [
    "startEpoch = len(lossHist)\n",
    "train = 0 \n",
    "for epoch in range(startEpoch,startEpoch+300*train):\n",
    "    print(\"EPOCH\",epoch)\n",
    "    epochLoss = []\n",
    "    for step,(batchL,batchS,_) in tqdm.tqdm_notebook(enumerate(text2MelLoader)):\n",
    "        batchL = batchL.to(dev)\n",
    "        batchS = batchS.to(dev)\n",
    "        bL = ch.autograd.Variable(batchL)\n",
    "        bS = ch.autograd.Variable(batchS)\n",
    "        Rp,A = text2Mel(bL,bS)\n",
    "        Shat = audioDec(Rp)\n",
    "        melloss = MelFun(Shat[:,:,:-1],bS[:,:,1:])\n",
    "        attloss = GAttFun(A)\n",
    "        loss = melloss + attloss\n",
    "        epochLoss.append(loss.data.item())\n",
    "        text2MelOpt.zero_grad()\n",
    "        loss.backward()\n",
    "        text2MelOpt.step()\n",
    "#         if step > 10: break\n",
    "    lossHist.append(np.mean(epochLoss))\n",
    "    print('epoch',epoch,'total',lossHist[-1],\n",
    "      'mel',melloss.data.item(),'att',attloss.data.item())\n",
    "    if epoch % 10 == 0:\n",
    "        state = {\n",
    "            'epoch': epoch + 1,\n",
    "            'archparams': {'sep': params.sep, 'alpha': params.alpha},\n",
    "            'text2MelState': text2Mel.state_dict(),\n",
    "            'audioDecState': audioDec.state_dict(),\n",
    "            'lossHist': lossHist,\n",
    "            'bestLoss': min(lossHist[-1],bestLoss),\n",
    "            'optimizerState': text2MelOpt.state_dict() \n",
    "        }\n",
    "        saveChkpt(state,model='text2Mel')\n",
    "        plt.imshow(bS[0].cpu().detach().numpy(),cmap='gray')\n",
    "        plt.show()\n",
    "        plt.imshow(Shat[0].cpu().detach().numpy(),cmap='gray')\n",
    "        plt.show()\n",
    "        plt.imshow(A[0].cpu().detach().numpy(),cmap='gray')\n",
    "        plt.show()\n",
    "        if len(lossHist) > 10: plt.plot(lossHist)"
   ]
  },
  {
   "cell_type": "code",
   "execution_count": 28,
   "metadata": {},
   "outputs": [
    {
     "ename": "NameError",
     "evalue": "name 'batchS' is not defined",
     "output_type": "error",
     "traceback": [
      "\u001b[0;31m---------------------------------------------------------------------------\u001b[0m",
      "\u001b[0;31mNameError\u001b[0m                                 Traceback (most recent call last)",
      "\u001b[0;32m<ipython-input-28-10915acebdb6>\u001b[0m in \u001b[0;36m<module>\u001b[0;34m()\u001b[0m\n\u001b[0;32m----> 1\u001b[0;31m \u001b[0mbatchS\u001b[0m\u001b[0;34m.\u001b[0m\u001b[0mshape\u001b[0m\u001b[0;34m\u001b[0m\u001b[0m\n\u001b[0m",
      "\u001b[0;31mNameError\u001b[0m: name 'batchS' is not defined"
     ]
    }
   ],
   "source": [
    "batchS.shape"
   ]
  },
  {
   "cell_type": "code",
   "execution_count": 29,
   "metadata": {},
   "outputs": [
    {
     "name": "stdout",
     "output_type": "stream",
     "text": [
      "LOADED EPOCH 51, LOSS 0.1000639416833422, BEST LOSS 0.1000639416833422\n"
     ]
    },
    {
     "data": {
      "image/png": "[encoded data removed]",
      "text/plain": [
       "<Figure size 432x288 with 1 Axes>"
      ]
     },
     "metadata": {},
     "output_type": "display_data"
    }
   ],
   "source": [
    "import datasets\n",
    "from importlib import reload\n",
    "reload(datasets)\n",
    "\n",
    "ssrnLoader = Data.DataLoader(datasets.LJSpeechDataset(ttmel=0),\n",
    "                             batch_size=16,\n",
    "                             shuffle=True,\n",
    "                             num_workers=8)\n",
    "\n",
    "ssrn = SSRN(c=params.c,F=params.F,Fp=params.Fp).to(dev)\n",
    "\n",
    "ssrnOpt = ch.optim.Adam(ssrn.parameters(),\n",
    "                        lr=params.lr,betas=(params.b1,params.b2),eps=params.eps)\n",
    "\n",
    "load = 1\n",
    "if load:\n",
    "    startEpoch,lossHist,bestLoss = loadChkpt((ssrn,),ssrnOpt,'ssrn')\n",
    "else:\n",
    "    # COLD START - RESET SSRN\n",
    "    ssrn = SSRN(c=params.c,F=params.F,Fp=params.Fp).to(dev)\n",
    "    ssrnOpt = ch.optim.Adam(ssrn.parameters(),\n",
    "                        lr=params.lr,betas=(params.b1,params.b2),eps=params.eps)\n",
    "    startEpoch,lossHist,bestLoss = 0,[],float('inf')"
   ]
  },
  {
   "cell_type": "code",
   "execution_count": 30,
   "metadata": {},
   "outputs": [],
   "source": [
    "startEpoch = len(lossHist)\n",
    "train = 0\n",
    "for epoch in range(startEpoch,startEpoch+50*train):\n",
    "    print(\"EPOCH\",epoch)\n",
    "    epochLoss = []\n",
    "    for step,(_,batchS,batchY) in tqdm.tqdm_notebook(enumerate(ssrnLoader)):\n",
    "        batchS = batchS.to(dev)\n",
    "        batchY = batchY.to(dev)\n",
    "        bS = ch.autograd.Variable(batchS)\n",
    "        bY = ch.autograd.Variable(batchY)\n",
    "        Yhat = ssrn(bS)\n",
    "        loss = MelFun(Yhat,bY)\n",
    "        epochLoss.append(loss.data.item())\n",
    "        ssrnOpt.zero_grad()\n",
    "        loss.backward()\n",
    "        ssrnOpt.step()\n",
    "    lossHist.append(np.mean(epochLoss))\n",
    "    print('epoch',epoch,'total',np.mean(lossHist))\n",
    "    if epoch % 10 == 0:\n",
    "        state = {\n",
    "            'epoch': epoch + 1,\n",
    "            'archparams': {'sep': params.sep, 'alpha': params.alpha},\n",
    "            'ssrnState': ssrn.state_dict(),\n",
    "            'lossHist': lossHist,\n",
    "            'bestLoss': min(lossHist[-1],bestLoss),\n",
    "            'optimizerState': ssrnOpt.state_dict() \n",
    "        }\n",
    "        saveChkpt(state,model='ssrn')\n",
    "        plt.imshow(bS[0].cpu().detach().numpy(),cmap='gray')\n",
    "        plt.show()\n",
    "        plt.imshow(bY[0].cpu().detach().numpy(),cmap='gray')\n",
    "        plt.show()\n",
    "        plt.imshow(Yhat[0].cpu().detach().numpy(),cmap='gray')\n",
    "        plt.show()\n",
    "        if len(lossHist) > 10: plt.plot(lossHist)"
   ]
  },
  {
   "cell_type": "code",
   "execution_count": 34,
   "metadata": {},
   "outputs": [],
   "source": [
    "L,S,Y = datasets.LJSpeechDataset(ttmel=1).__getitem__(1)\n",
    "L.shape,S.shape,Y.shape"
   ]
  },
  {
   "cell_type": "code",
   "execution_count": 36,
   "metadata": {},
   "outputs": [],
   "source": [
    "# !pip install lws\n",
    "import lws\n",
    "import IPython.display as ipd"
   ]
  },
  {
   "cell_type": "code",
   "execution_count": 31,
   "metadata": {},
   "outputs": [],
   "source": [
    "dev = 'cpu'"
   ]
  },
  {
   "cell_type": "code",
   "execution_count": 32,
   "metadata": {},
   "outputs": [],
   "source": [
    "text = \"Bears. Beets. Battlestar Galactica\".lower()\n",
    "L = ch.Tensor([params.c2i[c] for c in text]).type(ch.LongTensor).to(dev).unsqueeze(0)\n",
    "# initial audio enc\n",
    "s0 = ch.zeros((80,1)).to(dev).unsqueeze(0)\n",
    "S = s0"
   ]
  },
  {
   "cell_type": "code",
   "execution_count": 33,
   "metadata": {},
   "outputs": [],
   "source": [
    "text2Mel = text2Mel.to(dev)\n",
    "audioDec = audioDec.to(dev)\n",
    "ssrn = ssrn.to(dev)"
   ]
  },
  {
   "cell_type": "code",
   "execution_count": 34,
   "metadata": {},
   "outputs": [
    {
     "data": {
      "application/vnd.jupyter.widget-view+json": {
       "model_id": "3e265cc84c3f4a2a904e268a059290b8",
       "version_major": 2,
       "version_minor": 0
      },
      "text/plain": [
       "HBox(children=(IntProgress(value=0), HTML(value='')))"
      ]
     },
     "metadata": {},
     "output_type": "display_data"
    },
    {
     "name": "stdout",
     "output_type": "stream",
     "text": [
      "\n"
     ]
    }
   ],
   "source": [
    "for t in tqdm.tqdm_notebook(range(100)):\n",
    "    Rp,A = text2Mel(L,S)\n",
    "    Shat = audioDec(Rp)\n",
    "    S = ch.cat((s0,Shat),dim=2)"
   ]
  },
  {
   "cell_type": "code",
   "execution_count": 37,
   "metadata": {},
   "outputs": [],
   "source": [
    "Y = ssrn(S)\n",
    "# Y[Y<0] = 0 # doesn't happen\n",
    "Y = Y ** (params.eta / params.gamma) * 50\n",
    "Y = Y.cpu().detach().numpy().astype(np.float64)\n",
    "Y = Y[0].T\n",
    "Y[Y<0] = 0\n",
    "\n",
    "lwsProc = lws.lws(params.nFFT,params.hopL,mode='speech',fftsize=params.nFFT)\n",
    "Y = lwsProc.run_lws(Y)\n",
    "Y = lwsProc.istft(Y)"
   ]
  },
  {
   "cell_type": "code",
   "execution_count": 1,
   "metadata": {},
   "outputs": [
    {
     "ename": "NameError",
     "evalue": "name 'ipd' is not defined",
     "output_type": "error",
     "traceback": [
      "\u001b[0;31m---------------------------------------------------------------------------\u001b[0m",
      "\u001b[0;31mNameError\u001b[0m                                 Traceback (most recent call last)",
      "\u001b[0;32m<ipython-input-1-e8aeecdd46cd>\u001b[0m in \u001b[0;36m<module>\u001b[0;34m()\u001b[0m\n\u001b[0;32m----> 1\u001b[0;31m \u001b[0mipd\u001b[0m\u001b[0;34m.\u001b[0m\u001b[0mAudio\u001b[0m\u001b[0;34m(\u001b[0m\u001b[0mY\u001b[0m\u001b[0;34m,\u001b[0m\u001b[0mrate\u001b[0m\u001b[0;34m=\u001b[0m\u001b[0;36m22050\u001b[0m\u001b[0;34m)\u001b[0m\u001b[0;34m\u001b[0m\u001b[0m\n\u001b[0m\u001b[1;32m      2\u001b[0m \u001b[0;34m\u001b[0m\u001b[0m\n\u001b[1;32m      3\u001b[0m \u001b[0mplt\u001b[0m\u001b[0;34m.\u001b[0m\u001b[0mimshow\u001b[0m\u001b[0;34m(\u001b[0m\u001b[0mYhat\u001b[0m\u001b[0;34m[\u001b[0m\u001b[0;36m0\u001b[0m\u001b[0;34m]\u001b[0m\u001b[0;34m.\u001b[0m\u001b[0mcpu\u001b[0m\u001b[0;34m(\u001b[0m\u001b[0;34m)\u001b[0m\u001b[0;34m.\u001b[0m\u001b[0mdetach\u001b[0m\u001b[0;34m(\u001b[0m\u001b[0;34m)\u001b[0m\u001b[0;34m.\u001b[0m\u001b[0mnumpy\u001b[0m\u001b[0;34m(\u001b[0m\u001b[0;34m)\u001b[0m\u001b[0;34m,\u001b[0m\u001b[0mcmap\u001b[0m\u001b[0;34m=\u001b[0m\u001b[0;34m'gray'\u001b[0m\u001b[0;34m)\u001b[0m\u001b[0;34m\u001b[0m\u001b[0m\n\u001b[1;32m      4\u001b[0m \u001b[0mplt\u001b[0m\u001b[0;34m.\u001b[0m\u001b[0mshow\u001b[0m\u001b[0;34m(\u001b[0m\u001b[0;34m)\u001b[0m\u001b[0;34m\u001b[0m\u001b[0m\n\u001b[1;32m      5\u001b[0m \u001b[0mplt\u001b[0m\u001b[0;34m.\u001b[0m\u001b[0mimshow\u001b[0m\u001b[0;34m(\u001b[0m\u001b[0mA\u001b[0m\u001b[0;34m[\u001b[0m\u001b[0;36m0\u001b[0m\u001b[0;34m]\u001b[0m\u001b[0;34m.\u001b[0m\u001b[0mcpu\u001b[0m\u001b[0;34m(\u001b[0m\u001b[0;34m)\u001b[0m\u001b[0;34m.\u001b[0m\u001b[0mdetach\u001b[0m\u001b[0;34m(\u001b[0m\u001b[0;34m)\u001b[0m\u001b[0;34m.\u001b[0m\u001b[0mnumpy\u001b[0m\u001b[0;34m(\u001b[0m\u001b[0;34m)\u001b[0m\u001b[0;34m,\u001b[0m\u001b[0mcmap\u001b[0m\u001b[0;34m=\u001b[0m\u001b[0;34m'gray'\u001b[0m\u001b[0;34m)\u001b[0m\u001b[0;34m\u001b[0m\u001b[0m\n",
      "\u001b[0;31mNameError\u001b[0m: name 'ipd' is not defined"
     ]
    }
   ],
   "source": [
    "ipd.Audio(Y,rate=22050)\n",
    "\n",
    "plt.imshow(Yhat[0].cpu().detach().numpy(),cmap='gray')\n",
    "plt.show()\n",
    "plt.imshow(A[0].cpu().detach().numpy(),cmap='gray')\n",
    "plt.show()\n",
    "plt.imshow(S[0].cpu().detach().numpy(),cmap='gray')\n",
    "plt.show()"
   ]
  },
  {
   "cell_type": "code",
   "execution_count": null,
   "metadata": {},
   "outputs": [],
   "source": []
  }
 ],
 "metadata": {
  "anaconda-cloud": {},
  "kernelspec": {
   "display_name": "Python 3",
   "language": "python",
   "name": "python3"
  },
  "language_info": {
   "codemirror_mode": {
    "name": "ipython",
    "version": 3
   },
   "file_extension": ".py",
   "mimetype": "text/x-python",
   "name": "python",
   "nbconvert_exporter": "python",
   "pygments_lexer": "ipython3",
   "version": "3.6.5"
  },
  "widgets": {
   "state": {
    "a8160a83e8904bca82a2c3ceae6a2b65": {
     "views": [
      {
       "cell_index": 23
      }
     ]
    },
    "ac14f9c0dea54a57b9ef0ad30780d2b0": {
     "views": [
      {
       "cell_index": 21
      }
     ]
    }
   },
   "version": "1.2.0"
  }
 },
 "nbformat": 4,
 "nbformat_minor": 1
}
