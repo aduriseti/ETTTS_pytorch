{
 "cells": [
  {
   "cell_type": "code",
   "execution_count": 16,
   "metadata": {},
   "outputs": [
    {
     "data": {
      "text/plain": [
       "<module 'utils' from '/home/aduriseti/tts/ettts/utils.py'>"
      ]
     },
     "execution_count": 16,
     "metadata": {},
     "output_type": "execute_result"
    }
   ],
   "source": [
    "# !conda install -c conda-forge librosa\n",
    "# !conda install tqdm\n",
    "\n",
    "import torch as ch\n",
    "import torch.nn as nn\n",
    "import torch.functional as F\n",
    "import torch.utils.data as Data\n",
    "\n",
    "import numpy as np\n",
    "import pandas as pd\n",
    "import scipy as sp\n",
    "from matplotlib import pyplot as plt\n",
    "%matplotlib inline\n",
    "\n",
    "import os\n",
    "import string\n",
    "import librosa\n",
    "import tqdm\n",
    "import shutil\n",
    "# !pip install lws\n",
    "import lws\n",
    "import IPython.display as ipd\n",
    "from importlib import reload\n",
    "\n",
    "import hyperparams\n",
    "reload(hyperparams)\n",
    "params = hyperparams.Hyperparams\n",
    "import datasets\n",
    "reload(datasets)\n",
    "import dcttsModel\n",
    "reload(dcttsModel)\n",
    "import utils\n",
    "reload(utils)"
   ]
  },
  {
   "cell_type": "code",
   "execution_count": 17,
   "metadata": {},
   "outputs": [
    {
     "name": "stdout",
     "output_type": "stream",
     "text": [
      "HYPERPARAMS {'sep': 3, 'alpha': 1, 'dropout': 0.05, 'norm': 2, 'lr': 0.001, 'chunk': 1}\n"
     ]
    },
    {
     "data": {
      "text/plain": [
       "[1601042, 2611841]"
      ]
     },
     "execution_count": 17,
     "metadata": {},
     "output_type": "execute_result"
    }
   ],
   "source": [
    "# # textEnc = TextEnc(d=d,e=e,c2i=c2i)\n",
    "# # audioEnc = AudioEnc(d=d,F=F)\n",
    "# audioDec = AudioDec(d=params.d,F=params.F).to(dev)\n",
    "\n",
    "ssrn = dcttsModel.SSRN(c=params.c,F=params.F,Fp=params.Fp)\n",
    "text2Mel = dcttsModel.Text2Mel(d=params.d,e=params.e,c2i=params.c2i,F=params.F)\n",
    "\n",
    "# print tunable hyperparams\n",
    "print('HYPERPARAMS',utils.paramDict)\n",
    "[sum(np.prod(p.size()) for p in m.parameters()) for m in (text2Mel,ssrn)]"
   ]
  },
  {
   "cell_type": "code",
   "execution_count": 18,
   "metadata": {},
   "outputs": [
    {
     "data": {
      "text/plain": [
       "SSRN(\n",
       "  (seq): Sequential(\n",
       "    (0): C(\n",
       "      (reduce): Conv1d(80, 5, kernel_size=(1,), stride=(1,))\n",
       "      (conv): Conv1d(5, 32, kernel_size=(1,), stride=(1,))\n",
       "      (expand): Conv1d(32, 512, kernel_size=(1,), stride=(1,))\n",
       "      (norm): LayerNorm(torch.Size([512]), eps=1e-05, elementwise_affine=True)\n",
       "      (dropout): Dropout(p=0.05)\n",
       "    )\n",
       "    (1): HC(\n",
       "      (conv): C(\n",
       "        (reduce): Conv1d(512, 32, kernel_size=(1,), stride=(1,))\n",
       "        (conv): Conv1d(32, 64, kernel_size=(3,), stride=(1,), padding=(1,))\n",
       "        (expand): Conv1d(64, 1024, kernel_size=(1,), stride=(1,))\n",
       "        (norm): LayerNorm(torch.Size([1024]), eps=1e-05, elementwise_affine=True)\n",
       "        (dropout): Dropout(p=0.05)\n",
       "      )\n",
       "    )\n",
       "    (2): HC(\n",
       "      (conv): C(\n",
       "        (reduce): Conv1d(512, 32, kernel_size=(1,), stride=(1,))\n",
       "        (conv): Conv1d(32, 64, kernel_size=(3,), stride=(1,), padding=(3,), dilation=(3,))\n",
       "        (expand): Conv1d(64, 1024, kernel_size=(1,), stride=(1,))\n",
       "        (norm): LayerNorm(torch.Size([1024]), eps=1e-05, elementwise_affine=True)\n",
       "        (dropout): Dropout(p=0.05)\n",
       "      )\n",
       "    )\n",
       "    (3): D(\n",
       "      (tconv): ConvTranspose1d(512, 512, kernel_size=(2,), stride=(2,))\n",
       "    )\n",
       "    (4): HC(\n",
       "      (conv): C(\n",
       "        (reduce): Conv1d(512, 32, kernel_size=(1,), stride=(1,))\n",
       "        (conv): Conv1d(32, 64, kernel_size=(3,), stride=(1,), padding=(1,))\n",
       "        (expand): Conv1d(64, 1024, kernel_size=(1,), stride=(1,))\n",
       "        (norm): LayerNorm(torch.Size([1024]), eps=1e-05, elementwise_affine=True)\n",
       "        (dropout): Dropout(p=0.05)\n",
       "      )\n",
       "    )\n",
       "    (5): HC(\n",
       "      (conv): C(\n",
       "        (reduce): Conv1d(512, 32, kernel_size=(1,), stride=(1,))\n",
       "        (conv): Conv1d(32, 64, kernel_size=(3,), stride=(1,), padding=(3,), dilation=(3,))\n",
       "        (expand): Conv1d(64, 1024, kernel_size=(1,), stride=(1,))\n",
       "        (norm): LayerNorm(torch.Size([1024]), eps=1e-05, elementwise_affine=True)\n",
       "        (dropout): Dropout(p=0.05)\n",
       "      )\n",
       "    )\n",
       "    (6): D(\n",
       "      (tconv): ConvTranspose1d(512, 512, kernel_size=(2,), stride=(2,))\n",
       "    )\n",
       "    (7): HC(\n",
       "      (conv): C(\n",
       "        (reduce): Conv1d(512, 32, kernel_size=(1,), stride=(1,))\n",
       "        (conv): Conv1d(32, 64, kernel_size=(3,), stride=(1,), padding=(1,))\n",
       "        (expand): Conv1d(64, 1024, kernel_size=(1,), stride=(1,))\n",
       "        (norm): LayerNorm(torch.Size([1024]), eps=1e-05, elementwise_affine=True)\n",
       "        (dropout): Dropout(p=0.05)\n",
       "      )\n",
       "    )\n",
       "    (8): HC(\n",
       "      (conv): C(\n",
       "        (reduce): Conv1d(512, 32, kernel_size=(1,), stride=(1,))\n",
       "        (conv): Conv1d(32, 64, kernel_size=(3,), stride=(1,), padding=(3,), dilation=(3,))\n",
       "        (expand): Conv1d(64, 1024, kernel_size=(1,), stride=(1,))\n",
       "        (norm): LayerNorm(torch.Size([1024]), eps=1e-05, elementwise_affine=True)\n",
       "        (dropout): Dropout(p=0.05)\n",
       "      )\n",
       "    )\n",
       "    (9): C(\n",
       "      (reduce): Conv1d(512, 32, kernel_size=(1,), stride=(1,))\n",
       "      (conv): Conv1d(32, 64, kernel_size=(1,), stride=(1,))\n",
       "      (expand): Conv1d(64, 1024, kernel_size=(1,), stride=(1,))\n",
       "      (norm): LayerNorm(torch.Size([1024]), eps=1e-05, elementwise_affine=True)\n",
       "      (dropout): Dropout(p=0.05)\n",
       "    )\n",
       "    (10): HC(\n",
       "      (conv): C(\n",
       "        (reduce): Conv1d(1024, 64, kernel_size=(1,), stride=(1,))\n",
       "        (conv): Conv1d(64, 128, kernel_size=(3,), stride=(1,), padding=(1,))\n",
       "        (expand): Conv1d(128, 2048, kernel_size=(1,), stride=(1,))\n",
       "        (norm): LayerNorm(torch.Size([2048]), eps=1e-05, elementwise_affine=True)\n",
       "        (dropout): Dropout(p=0.05)\n",
       "      )\n",
       "    )\n",
       "    (11): HC(\n",
       "      (conv): C(\n",
       "        (reduce): Conv1d(1024, 64, kernel_size=(1,), stride=(1,))\n",
       "        (conv): Conv1d(64, 128, kernel_size=(3,), stride=(1,), padding=(1,))\n",
       "        (expand): Conv1d(128, 2048, kernel_size=(1,), stride=(1,))\n",
       "        (norm): LayerNorm(torch.Size([2048]), eps=1e-05, elementwise_affine=True)\n",
       "        (dropout): Dropout(p=0.05)\n",
       "      )\n",
       "    )\n",
       "    (12): C(\n",
       "      (reduce): Conv1d(1024, 64, kernel_size=(1,), stride=(1,))\n",
       "      (conv): Conv1d(64, 32, kernel_size=(1,), stride=(1,))\n",
       "      (expand): Conv1d(32, 513, kernel_size=(1,), stride=(1,))\n",
       "      (norm): LayerNorm(torch.Size([513]), eps=1e-05, elementwise_affine=True)\n",
       "      (dropout): Dropout(p=0.05)\n",
       "    )\n",
       "    (13): C(\n",
       "      (reduce): Conv1d(513, 32, kernel_size=(1,), stride=(1,))\n",
       "      (conv): Conv1d(32, 32, kernel_size=(1,), stride=(1,))\n",
       "      (expand): Conv1d(32, 513, kernel_size=(1,), stride=(1,))\n",
       "      (norm): LayerNorm(torch.Size([513]), eps=1e-05, elementwise_affine=True)\n",
       "      (dropout): Dropout(p=0.05)\n",
       "    )\n",
       "    (14): ReLU()\n",
       "    (15): C(\n",
       "      (reduce): Conv1d(513, 32, kernel_size=(1,), stride=(1,))\n",
       "      (conv): Conv1d(32, 32, kernel_size=(1,), stride=(1,))\n",
       "      (expand): Conv1d(32, 513, kernel_size=(1,), stride=(1,))\n",
       "      (norm): LayerNorm(torch.Size([513]), eps=1e-05, elementwise_affine=True)\n",
       "      (dropout): Dropout(p=0.05)\n",
       "    )\n",
       "    (16): ReLU()\n",
       "    (17): C(\n",
       "      (reduce): Conv1d(513, 32, kernel_size=(1,), stride=(1,))\n",
       "      (conv): Conv1d(32, 32, kernel_size=(1,), stride=(1,))\n",
       "      (expand): Conv1d(32, 513, kernel_size=(1,), stride=(1,))\n",
       "      (norm): LayerNorm(torch.Size([513]), eps=1e-05, elementwise_affine=True)\n",
       "      (dropout): Dropout(p=0.05)\n",
       "    )\n",
       "    (18): Sigmoid()\n",
       "  )\n",
       ")"
      ]
     },
     "execution_count": 18,
     "metadata": {},
     "output_type": "execute_result"
    }
   ],
   "source": [
    "ssrn"
   ]
  },
  {
   "cell_type": "code",
   "execution_count": 19,
   "metadata": {},
   "outputs": [],
   "source": [
    "L,S,Y = datasets.LJSpeechDataset(ttmel=1).__getitem__(100)\n",
    "L,S,Y = L.unsqueeze(0),S.unsqueeze(0),Y.unsqueeze(0)\n",
    "\n",
    "# initial audio enc\n",
    "# S = ch.zeros((80,217)).to(dev).unsqueeze(0)\n",
    "s0 = ch.zeros((80,params.chunk)).unsqueeze(0)\n",
    "Shat = s0"
   ]
  },
  {
   "cell_type": "code",
   "execution_count": 20,
   "metadata": {},
   "outputs": [
    {
     "name": "stdout",
     "output_type": "stream",
     "text": [
      "DEVICE cpu\n"
     ]
    },
    {
     "data": {
      "application/vnd.jupyter.widget-view+json": {
       "model_id": "41cedf20127a4b6d8bfc0c2fb165f5fa",
       "version_major": 2,
       "version_minor": 0
      },
      "text/plain": [
       "HBox(children=(IntProgress(value=0, max=218), HTML(value='')))"
      ]
     },
     "metadata": {},
     "output_type": "display_data"
    },
    {
     "name": "stdout",
     "output_type": "stream",
     "text": [
      "\n",
      "DEVICE cuda:0\n"
     ]
    },
    {
     "data": {
      "application/vnd.jupyter.widget-view+json": {
       "model_id": "656b9938308548c2a1a2109524fb61dc",
       "version_major": 2,
       "version_minor": 0
      },
      "text/plain": [
       "HBox(children=(IntProgress(value=0, max=218), HTML(value='')))"
      ]
     },
     "metadata": {},
     "output_type": "display_data"
    },
    {
     "name": "stdout",
     "output_type": "stream",
     "text": [
      "\n"
     ]
    }
   ],
   "source": [
    "for dev in ('cpu','cuda:0') if ch.cuda.is_available() else ('cpu'):\n",
    "    print('DEVICE',dev)\n",
    "    L,S,Y = L.to(dev),S.to(dev),Y.to(dev)\n",
    "    s0 = ch.zeros((80,params.chunk)).unsqueeze(0).to(dev)\n",
    "    Shat = s0\n",
    "    text2Mel = text2Mel.eval().to(dev)\n",
    "    ssrn = ssrn.eval().to(dev)\n",
    "    with ch.no_grad():\n",
    "        for t in tqdm.tqdm_notebook(range(218//params.chunk)):\n",
    "            Snext,A = text2Mel(L,Shat[:,:,:])\n",
    "    #         S[:,:,t+1 ] = Shat[:,:,t]\n",
    "            Shat = ch.cat((s0,Snext),dim=2)\n",
    "    #         Shat = ch.cat((Shat,Snext[:,:,-params.chunk:]),dim=2)"
   ]
  },
  {
   "cell_type": "code",
   "execution_count": 15,
   "metadata": {},
   "outputs": [
    {
     "data": {
      "text/plain": [
       "torch.Size([1, 80, 2])"
      ]
     },
     "execution_count": 15,
     "metadata": {},
     "output_type": "execute_result"
    }
   ],
   "source": [
    "Shat.shape"
   ]
  },
  {
   "cell_type": "code",
   "execution_count": null,
   "metadata": {},
   "outputs": [],
   "source": [
    "Yhat = ssrn(Shat)"
   ]
  }
 ],
 "metadata": {
  "anaconda-cloud": {},
  "kernelspec": {
   "display_name": "Python 3",
   "language": "python",
   "name": "python3"
  },
  "language_info": {
   "codemirror_mode": {
    "name": "ipython",
    "version": 3
   },
   "file_extension": ".py",
   "mimetype": "text/x-python",
   "name": "python",
   "nbconvert_exporter": "python",
   "pygments_lexer": "ipython3",
   "version": "3.6.5"
  }
 },
 "nbformat": 4,
 "nbformat_minor": 1
}
